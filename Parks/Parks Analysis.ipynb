{
 "cells": [
  {
   "cell_type": "markdown",
   "metadata": {},
   "source": [
    "# **Pittsburgh Neighborhood Parks Analysis**\n",
    "\n",
    "*CMPINF 0010 Spring 2022 Final Project* \\\n",
    "*Braedon Ondos*"
   ]
  },
  {
   "cell_type": "markdown",
   "metadata": {},
   "source": [
    "# Introduction\n",
    "\n",
    "We are performing a data-driven analysis to find the best neighborhood in Pittsburgh in terms of environmental quality. We are doing this by using datasets from the Western Pennsylvania Regional Data Center (WPRDC). \n",
    "\n",
    "# Parks\n",
    "\n",
    "My own submetric is parks in Pittsburgh. In my analysis, the number, density, and quality of parks is used to determinine the best neighborhood in Pittsburgh. [The Parks dataset](https://data.wprdc.org/dataset/parks/resource/fa329e3d-89ff-4708-8ddf-81bfedcad11d), [the neighborhood areas dataset](https://data.wprdc.org/dataset/neighborhoods2), and the neighborhood populations dataset were obtained from the Western Pennsylvania Regional Data Center."
   ]
  },
  {
   "cell_type": "code",
   "execution_count": 72,
   "metadata": {},
   "outputs": [],
   "source": [
    "import pandas as pd\n",
    "import numpy as np\n",
    "%matplotlib inline\n",
    "import matplotlib.pyplot as plt"
   ]
  },
  {
   "cell_type": "code",
   "execution_count": 73,
   "metadata": {},
   "outputs": [
    {
     "data": {
      "text/html": [
       "<div>\n",
       "<style scoped>\n",
       "    .dataframe tbody tr th:only-of-type {\n",
       "        vertical-align: middle;\n",
       "    }\n",
       "\n",
       "    .dataframe tbody tr th {\n",
       "        vertical-align: top;\n",
       "    }\n",
       "\n",
       "    .dataframe thead th {\n",
       "        text-align: right;\n",
       "    }\n",
       "</style>\n",
       "<table border=\"1\" class=\"dataframe\">\n",
       "  <thead>\n",
       "    <tr style=\"text-align: right;\">\n",
       "      <th></th>\n",
       "      <th>id</th>\n",
       "      <th>name</th>\n",
       "      <th>type</th>\n",
       "      <th>maintenance_responsibility</th>\n",
       "      <th>image</th>\n",
       "      <th>neighborhood</th>\n",
       "      <th>council_district</th>\n",
       "      <th>ward</th>\n",
       "      <th>tract</th>\n",
       "      <th>public_works_division</th>\n",
       "      <th>pli_division</th>\n",
       "      <th>police_zone</th>\n",
       "      <th>fire_zone</th>\n",
       "      <th>latitude</th>\n",
       "      <th>longitude</th>\n",
       "    </tr>\n",
       "  </thead>\n",
       "  <tbody>\n",
       "    <tr>\n",
       "      <th>0</th>\n",
       "      <td>2111959181</td>\n",
       "      <td>Able Long Park</td>\n",
       "      <td>Park</td>\n",
       "      <td>Parks - Southern</td>\n",
       "      <td>https://tools.wprdc.org/images/pittsburgh/park...</td>\n",
       "      <td>Beechview</td>\n",
       "      <td>4</td>\n",
       "      <td>19</td>\n",
       "      <td>42003192000</td>\n",
       "      <td>5</td>\n",
       "      <td>19</td>\n",
       "      <td>6</td>\n",
       "      <td>4-28</td>\n",
       "      <td>40.408118</td>\n",
       "      <td>-80.028197</td>\n",
       "    </tr>\n",
       "    <tr>\n",
       "      <th>1</th>\n",
       "      <td>1109513049</td>\n",
       "      <td>Albert Turk Graham Park</td>\n",
       "      <td>Park</td>\n",
       "      <td>Parks - Schenley</td>\n",
       "      <td>https://tools.wprdc.org/images/pittsburgh/park...</td>\n",
       "      <td>Crawford-Roberts</td>\n",
       "      <td>6</td>\n",
       "      <td>3</td>\n",
       "      <td>42003030500</td>\n",
       "      <td>3</td>\n",
       "      <td>3</td>\n",
       "      <td>2</td>\n",
       "      <td>2-1</td>\n",
       "      <td>40.440507</td>\n",
       "      <td>-79.984018</td>\n",
       "    </tr>\n",
       "    <tr>\n",
       "      <th>2</th>\n",
       "      <td>1544096765</td>\n",
       "      <td>Alcoa Park</td>\n",
       "      <td>Park</td>\n",
       "      <td>Parks - Northern</td>\n",
       "      <td>NaN</td>\n",
       "      <td>North Shore</td>\n",
       "      <td>1</td>\n",
       "      <td>22</td>\n",
       "      <td>42003563200</td>\n",
       "      <td>6</td>\n",
       "      <td>22</td>\n",
       "      <td>1</td>\n",
       "      <td>1-20</td>\n",
       "      <td>40.447481</td>\n",
       "      <td>-80.001017</td>\n",
       "    </tr>\n",
       "    <tr>\n",
       "      <th>3</th>\n",
       "      <td>1212681573</td>\n",
       "      <td>Allegheny Commons</td>\n",
       "      <td>Park</td>\n",
       "      <td>Parks - Northern</td>\n",
       "      <td>NaN</td>\n",
       "      <td>Allegheny Center</td>\n",
       "      <td>1</td>\n",
       "      <td>22</td>\n",
       "      <td>42003562700</td>\n",
       "      <td>1</td>\n",
       "      <td>22</td>\n",
       "      <td>1</td>\n",
       "      <td>1-7</td>\n",
       "      <td>40.453126</td>\n",
       "      <td>-80.009158</td>\n",
       "    </tr>\n",
       "    <tr>\n",
       "      <th>4</th>\n",
       "      <td>954863286</td>\n",
       "      <td>Allegheny Landing Park</td>\n",
       "      <td>Park</td>\n",
       "      <td>Parks - Northern</td>\n",
       "      <td>NaN</td>\n",
       "      <td>North Shore</td>\n",
       "      <td>1</td>\n",
       "      <td>22</td>\n",
       "      <td>42003563200</td>\n",
       "      <td>6</td>\n",
       "      <td>22</td>\n",
       "      <td>1</td>\n",
       "      <td>1-20</td>\n",
       "      <td>40.447184</td>\n",
       "      <td>-80.002907</td>\n",
       "    </tr>\n",
       "  </tbody>\n",
       "</table>\n",
       "</div>"
      ],
      "text/plain": [
       "           id                     name  type maintenance_responsibility  \\\n",
       "0  2111959181           Able Long Park  Park           Parks - Southern   \n",
       "1  1109513049  Albert Turk Graham Park  Park           Parks - Schenley   \n",
       "2  1544096765               Alcoa Park  Park           Parks - Northern   \n",
       "3  1212681573        Allegheny Commons  Park           Parks - Northern   \n",
       "4   954863286   Allegheny Landing Park  Park           Parks - Northern   \n",
       "\n",
       "                                               image      neighborhood  \\\n",
       "0  https://tools.wprdc.org/images/pittsburgh/park...         Beechview   \n",
       "1  https://tools.wprdc.org/images/pittsburgh/park...  Crawford-Roberts   \n",
       "2                                                NaN       North Shore   \n",
       "3                                                NaN  Allegheny Center   \n",
       "4                                                NaN       North Shore   \n",
       "\n",
       "   council_district  ward        tract  public_works_division  pli_division  \\\n",
       "0                 4    19  42003192000                      5            19   \n",
       "1                 6     3  42003030500                      3             3   \n",
       "2                 1    22  42003563200                      6            22   \n",
       "3                 1    22  42003562700                      1            22   \n",
       "4                 1    22  42003563200                      6            22   \n",
       "\n",
       "   police_zone fire_zone   latitude  longitude  \n",
       "0            6      4-28  40.408118 -80.028197  \n",
       "1            2       2-1  40.440507 -79.984018  \n",
       "2            1      1-20  40.447481 -80.001017  \n",
       "3            1       1-7  40.453126 -80.009158  \n",
       "4            1      1-20  40.447184 -80.002907  "
      ]
     },
     "execution_count": 73,
     "metadata": {},
     "output_type": "execute_result"
    }
   ],
   "source": [
    "parks = pd.read_csv(\"Parks.csv\")\n",
    "parks.head()"
   ]
  },
  {
   "cell_type": "code",
   "execution_count": 74,
   "metadata": {},
   "outputs": [
    {
     "name": "stdout",
     "output_type": "stream",
     "text": [
      "['Beechview' 'Crawford-Roberts' 'North Shore' 'Allegheny Center'\n",
      " 'Central Business District' 'Central Northside' 'East Liberty'\n",
      " 'Bedford Dwellings' 'South Side Slopes' 'South Side Flats'\n",
      " 'Lower Lawrenceville' 'Banksville' 'South Oakland' 'Homewood North'\n",
      " 'Hazelwood' 'Bon Air' 'Central Oakland' 'Brighton Heights' 'Brookline'\n",
      " 'Spring Garden' 'Lincoln-Lemington-Belmar' 'Windgap' 'Troy Hill'\n",
      " 'Westwood' 'Perry South' 'Homewood West' 'Squirrel Hill South'\n",
      " 'Strip District' 'Arlington' 'Stanton Heights' 'Crafton Heights'\n",
      " 'Upper Lawrenceville' 'East Carnegie' 'East Hills' 'Point Breeze'\n",
      " 'Allentown' 'Duquesne Heights' 'Mount Washington' 'Esplen' 'Fairywood'\n",
      " 'Fineview' 'Garfield' 'Greenfield' 'Larimer' 'Bloomfield' 'Perry North'\n",
      " 'North Oakland' 'Hays' 'Elliott' 'Highland Park' 'Homewood South'\n",
      " 'Morningside' 'Terrace Village' 'Spring Hill-City View' 'Carrick'\n",
      " 'Central Lawrenceville' 'Lincoln Place' 'Manchester' 'Marshall-Shadeland'\n",
      " 'Sheraden' 'Beltzhoover' 'Point Breeze North' 'Oakwood' 'Polish Hill'\n",
      " 'Regent Square' 'Upper Hill' 'New Homestead' 'West Oakland'\n",
      " 'Swisshelm Park' 'Bluff' 'Middle Hill' 'West End' 'Squirrel Hill North']\n"
     ]
    }
   ],
   "source": [
    "neighborhoods = parks[\"neighborhood\"].unique()\n",
    "print(neighborhoods)"
   ]
  },
  {
   "cell_type": "code",
   "execution_count": 75,
   "metadata": {},
   "outputs": [
    {
     "name": "stdout",
     "output_type": "stream",
     "text": [
      "There are 209 parks listed in the dataset.\n",
      "There are 73 neighborhoods listed in the Parks dataset.\n",
      "There are a total of 90 neighborhoods in Pittsburgh.\n"
     ]
    }
   ],
   "source": [
    "print(\"There are \" + str(parks[\"name\"].size) + \" parks listed in the dataset.\")\n",
    "print(\"There are \" + str(len(neighborhoods)) + \" neighborhoods listed in the Parks dataset.\")\n",
    "nbhdList = pd.read_csv(\"NeighborhoodList.csv\")\n",
    "print(\"There are a total of \" + str(len(nbhdList[\"hood\"])) + \" neighborhoods in Pittsburgh.\")"
   ]
  },
  {
   "cell_type": "markdown",
   "metadata": {},
   "source": [
    "Some of the entries in the Parks dataset are not actually parks. Some are listed as a traffic island, median, or building grounds. Since we are focusing on the environment, we only want to look at parks because they are outdoor spaces."
   ]
  },
  {
   "cell_type": "code",
   "execution_count": 76,
   "metadata": {},
   "outputs": [
    {
     "name": "stdout",
     "output_type": "stream",
     "text": [
      "There are 209 entires in the dataset, but 153 of them are just parks.\n"
     ]
    }
   ],
   "source": [
    "parks = parks[parks.type == \"Park\"]\n",
    "print(\"There are 209 entires in the dataset, but \" + str(len(parks.index)) + \" of them are just parks.\")"
   ]
  },
  {
   "cell_type": "code",
   "execution_count": 77,
   "metadata": {},
   "outputs": [
    {
     "data": {
      "text/plain": [
       "neighborhood\n",
       "South Side Slopes    6\n",
       "Beechview            6\n",
       "Mount Washington     5\n",
       "Hazelwood            5\n",
       "Troy Hill            5\n",
       "                    ..\n",
       "Homewood West        1\n",
       "Middle Hill          1\n",
       "Morningside          1\n",
       "New Homestead        1\n",
       "Windgap              1\n",
       "Name: parkCount, Length: 71, dtype: int64"
      ]
     },
     "execution_count": 77,
     "metadata": {},
     "output_type": "execute_result"
    }
   ],
   "source": [
    "parkCount = parks.groupby(by = \"neighborhood\").count()\n",
    "parkCount = parkCount[\"id\"].sort_values(ascending = False)\n",
    "parkCount = parkCount.rename(\"parkCount\")\n",
    "parkCount"
   ]
  },
  {
   "cell_type": "code",
   "execution_count": 78,
   "metadata": {},
   "outputs": [
    {
     "data": {
      "text/plain": [
       "Text(0, 0.5, 'Number of Parks')"
      ]
     },
     "execution_count": 78,
     "metadata": {},
     "output_type": "execute_result"
    },
    {
     "data": {
      "image/png": "[encoded data removed]",
      "text/plain": [
       "<Figure size 432x288 with 1 Axes>"
      ]
     },
     "metadata": {},
     "output_type": "display_data"
    }
   ],
   "source": [
    "plt.style.use('ggplot')\n",
    "parkCount.head(10).plot.bar(rot=50, color = \"Green\")\n",
    "plt.title(\"Pittsburgh Neighborhood Parks\")\n",
    "plt.xlabel(\"Neighborhood\")\n",
    "plt.ylabel(\"Number of Parks\")"
   ]
  },
  {
   "cell_type": "markdown",
   "metadata": {},
   "source": [
    "This is a graph of the top 10 Pittsburgh neighborhoods with the most parks. Now let's consider the density of the parks \n",
    "per total area of the neighborhood."
   ]
  },
  {
   "cell_type": "markdown",
   "metadata": {},
   "source": [
    "# Park Density by Area"
   ]
  },
  {
   "cell_type": "code",
   "execution_count": 79,
   "metadata": {},
   "outputs": [
    {
     "data": {
      "text/html": [
       "<div>\n",
       "<style scoped>\n",
       "    .dataframe tbody tr th:only-of-type {\n",
       "        vertical-align: middle;\n",
       "    }\n",
       "\n",
       "    .dataframe tbody tr th {\n",
       "        vertical-align: top;\n",
       "    }\n",
       "\n",
       "    .dataframe thead th {\n",
       "        text-align: right;\n",
       "    }\n",
       "</style>\n",
       "<table border=\"1\" class=\"dataframe\">\n",
       "  <thead>\n",
       "    <tr style=\"text-align: right;\">\n",
       "      <th></th>\n",
       "      <th>Neighborhood</th>\n",
       "      <th>Acres</th>\n",
       "    </tr>\n",
       "  </thead>\n",
       "  <tbody>\n",
       "    <tr>\n",
       "      <th>0</th>\n",
       "      <td>Chateau</td>\n",
       "      <td>246.501</td>\n",
       "    </tr>\n",
       "    <tr>\n",
       "      <th>1</th>\n",
       "      <td>Summer Hill</td>\n",
       "      <td>282.104</td>\n",
       "    </tr>\n",
       "    <tr>\n",
       "      <th>2</th>\n",
       "      <td>Northview Heights</td>\n",
       "      <td>201.558</td>\n",
       "    </tr>\n",
       "    <tr>\n",
       "      <th>3</th>\n",
       "      <td>Spring Hill-City View</td>\n",
       "      <td>404.765</td>\n",
       "    </tr>\n",
       "    <tr>\n",
       "      <th>4</th>\n",
       "      <td>Perry South</td>\n",
       "      <td>581.656</td>\n",
       "    </tr>\n",
       "  </tbody>\n",
       "</table>\n",
       "</div>"
      ],
      "text/plain": [
       "            Neighborhood    Acres\n",
       "0                Chateau  246.501\n",
       "1            Summer Hill  282.104\n",
       "2      Northview Heights  201.558\n",
       "3  Spring Hill-City View  404.765\n",
       "4            Perry South  581.656"
      ]
     },
     "execution_count": 79,
     "metadata": {},
     "output_type": "execute_result"
    }
   ],
   "source": [
    "areas = pd.read_csv(\"NeighborhoodList.csv\")\n",
    "areas = areas[[\"hood\",\"acres\"]]\n",
    "areas = areas.rename(columns={\"hood\":\"Neighborhood\",\"acres\":\"Acres\"})\n",
    "areas.head(5)"
   ]
  },
  {
   "cell_type": "code",
   "execution_count": 80,
   "metadata": {},
   "outputs": [
    {
     "data": {
      "text/html": [
       "<div>\n",
       "<style scoped>\n",
       "    .dataframe tbody tr th:only-of-type {\n",
       "        vertical-align: middle;\n",
       "    }\n",
       "\n",
       "    .dataframe tbody tr th {\n",
       "        vertical-align: top;\n",
       "    }\n",
       "\n",
       "    .dataframe thead th {\n",
       "        text-align: right;\n",
       "    }\n",
       "</style>\n",
       "<table border=\"1\" class=\"dataframe\">\n",
       "  <thead>\n",
       "    <tr style=\"text-align: right;\">\n",
       "      <th></th>\n",
       "      <th>Neighborhood</th>\n",
       "      <th>Acres</th>\n",
       "    </tr>\n",
       "  </thead>\n",
       "  <tbody>\n",
       "    <tr>\n",
       "      <th>13</th>\n",
       "      <td>Allegheny Center</td>\n",
       "      <td>134.703</td>\n",
       "    </tr>\n",
       "    <tr>\n",
       "      <th>11</th>\n",
       "      <td>Allegheny West</td>\n",
       "      <td>90.841</td>\n",
       "    </tr>\n",
       "    <tr>\n",
       "      <th>62</th>\n",
       "      <td>Allentown</td>\n",
       "      <td>189.608</td>\n",
       "    </tr>\n",
       "    <tr>\n",
       "      <th>67</th>\n",
       "      <td>Arlington</td>\n",
       "      <td>302.320</td>\n",
       "    </tr>\n",
       "    <tr>\n",
       "      <th>71</th>\n",
       "      <td>Arlington Heights</td>\n",
       "      <td>84.592</td>\n",
       "    </tr>\n",
       "  </tbody>\n",
       "</table>\n",
       "</div>"
      ],
      "text/plain": [
       "         Neighborhood    Acres\n",
       "13   Allegheny Center  134.703\n",
       "11     Allegheny West   90.841\n",
       "62          Allentown  189.608\n",
       "67          Arlington  302.320\n",
       "71  Arlington Heights   84.592"
      ]
     },
     "execution_count": 80,
     "metadata": {},
     "output_type": "execute_result"
    }
   ],
   "source": [
    "areas = areas.sort_values('Neighborhood')\n",
    "areas.head(5)"
   ]
  },
  {
   "cell_type": "code",
   "execution_count": 81,
   "metadata": {},
   "outputs": [
    {
     "data": {
      "text/html": [
       "<div>\n",
       "<style scoped>\n",
       "    .dataframe tbody tr th:only-of-type {\n",
       "        vertical-align: middle;\n",
       "    }\n",
       "\n",
       "    .dataframe tbody tr th {\n",
       "        vertical-align: top;\n",
       "    }\n",
       "\n",
       "    .dataframe thead th {\n",
       "        text-align: right;\n",
       "    }\n",
       "</style>\n",
       "<table border=\"1\" class=\"dataframe\">\n",
       "  <thead>\n",
       "    <tr style=\"text-align: right;\">\n",
       "      <th></th>\n",
       "      <th>parkCount</th>\n",
       "    </tr>\n",
       "    <tr>\n",
       "      <th>neighborhood</th>\n",
       "      <th></th>\n",
       "    </tr>\n",
       "  </thead>\n",
       "  <tbody>\n",
       "    <tr>\n",
       "      <th>Allegheny Center</th>\n",
       "      <td>2</td>\n",
       "    </tr>\n",
       "    <tr>\n",
       "      <th>Allentown</th>\n",
       "      <td>2</td>\n",
       "    </tr>\n",
       "    <tr>\n",
       "      <th>Arlington</th>\n",
       "      <td>1</td>\n",
       "    </tr>\n",
       "    <tr>\n",
       "      <th>Banksville</th>\n",
       "      <td>2</td>\n",
       "    </tr>\n",
       "    <tr>\n",
       "      <th>Bedford Dwellings</th>\n",
       "      <td>1</td>\n",
       "    </tr>\n",
       "  </tbody>\n",
       "</table>\n",
       "</div>"
      ],
      "text/plain": [
       "                   parkCount\n",
       "neighborhood                \n",
       "Allegheny Center           2\n",
       "Allentown                  2\n",
       "Arlington                  1\n",
       "Banksville                 2\n",
       "Bedford Dwellings          1"
      ]
     },
     "execution_count": 81,
     "metadata": {},
     "output_type": "execute_result"
    }
   ],
   "source": [
    "parkCount = pd.DataFrame(parkCount)\n",
    "parkCount = parkCount.sort_values(by=\"neighborhood\")\n",
    "parkCount.head(5)"
   ]
  },
  {
   "cell_type": "code",
   "execution_count": 82,
   "metadata": {},
   "outputs": [
    {
     "name": "stdout",
     "output_type": "stream",
     "text": [
      "[47]\n"
     ]
    },
    {
     "data": {
      "text/html": [
       "<div>\n",
       "<style scoped>\n",
       "    .dataframe tbody tr th:only-of-type {\n",
       "        vertical-align: middle;\n",
       "    }\n",
       "\n",
       "    .dataframe tbody tr th {\n",
       "        vertical-align: top;\n",
       "    }\n",
       "\n",
       "    .dataframe thead th {\n",
       "        text-align: right;\n",
       "    }\n",
       "</style>\n",
       "<table border=\"1\" class=\"dataframe\">\n",
       "  <thead>\n",
       "    <tr style=\"text-align: right;\">\n",
       "      <th></th>\n",
       "      <th>Neighborhood</th>\n",
       "      <th>parkCount</th>\n",
       "      <th>Acres</th>\n",
       "    </tr>\n",
       "  </thead>\n",
       "  <tbody>\n",
       "    <tr>\n",
       "      <th>0</th>\n",
       "      <td>Allegheny Center</td>\n",
       "      <td>2</td>\n",
       "      <td>134.703</td>\n",
       "    </tr>\n",
       "    <tr>\n",
       "      <th>1</th>\n",
       "      <td>Allentown</td>\n",
       "      <td>2</td>\n",
       "      <td>189.608</td>\n",
       "    </tr>\n",
       "    <tr>\n",
       "      <th>2</th>\n",
       "      <td>Arlington</td>\n",
       "      <td>1</td>\n",
       "      <td>302.320</td>\n",
       "    </tr>\n",
       "    <tr>\n",
       "      <th>3</th>\n",
       "      <td>Banksville</td>\n",
       "      <td>2</td>\n",
       "      <td>622.919</td>\n",
       "    </tr>\n",
       "    <tr>\n",
       "      <th>4</th>\n",
       "      <td>Bedford Dwellings</td>\n",
       "      <td>1</td>\n",
       "      <td>115.252</td>\n",
       "    </tr>\n",
       "  </tbody>\n",
       "</table>\n",
       "</div>"
      ],
      "text/plain": [
       "        Neighborhood  parkCount    Acres\n",
       "0   Allegheny Center          2  134.703\n",
       "1          Allentown          2  189.608\n",
       "2          Arlington          1  302.320\n",
       "3         Banksville          2  622.919\n",
       "4  Bedford Dwellings          1  115.252"
      ]
     },
     "execution_count": 82,
     "metadata": {},
     "output_type": "execute_result"
    }
   ],
   "source": [
    "parkCountArea = parkCount.merge(areas,how='inner',left_on=\"neighborhood\",right_on=\"Neighborhood\")\n",
    "columns_titles = [\"Neighborhood\",\"parkCount\",\"Acres\"]\n",
    "parkCountArea = parkCountArea.reindex(columns=columns_titles)\n",
    "print(parkCountArea[parkCountArea[\"Neighborhood\"]==\"Perry North\"].index.values)\n",
    "parkCountArea.iat[48,2] = 700\n",
    "parkCountArea.head(5)"
   ]
  },
  {
   "cell_type": "markdown",
   "metadata": {},
   "source": [
    "Perry North did not contain an acreage in the dataset. It looks roughly the same size as Brighton Heights, which is 718 acres. I will assign an estimate of 700 acres to Perry North. Since it will end up towards the bottom of our ranking list, the exact acreage is not needed."
   ]
  },
  {
   "cell_type": "code",
   "execution_count": 83,
   "metadata": {},
   "outputs": [
    {
     "data": {
      "text/html": [
       "<div>\n",
       "<style scoped>\n",
       "    .dataframe tbody tr th:only-of-type {\n",
       "        vertical-align: middle;\n",
       "    }\n",
       "\n",
       "    .dataframe tbody tr th {\n",
       "        vertical-align: top;\n",
       "    }\n",
       "\n",
       "    .dataframe thead th {\n",
       "        text-align: right;\n",
       "    }\n",
       "</style>\n",
       "<table border=\"1\" class=\"dataframe\">\n",
       "  <thead>\n",
       "    <tr style=\"text-align: right;\">\n",
       "      <th></th>\n",
       "      <th>Neighborhood</th>\n",
       "      <th>parkCount</th>\n",
       "      <th>Acres</th>\n",
       "      <th>Parks per Acre</th>\n",
       "    </tr>\n",
       "  </thead>\n",
       "  <tbody>\n",
       "    <tr>\n",
       "      <th>0</th>\n",
       "      <td>Allegheny Center</td>\n",
       "      <td>2</td>\n",
       "      <td>134.703</td>\n",
       "      <td>0.014847</td>\n",
       "    </tr>\n",
       "    <tr>\n",
       "      <th>1</th>\n",
       "      <td>Allentown</td>\n",
       "      <td>2</td>\n",
       "      <td>189.608</td>\n",
       "      <td>0.010548</td>\n",
       "    </tr>\n",
       "    <tr>\n",
       "      <th>2</th>\n",
       "      <td>Arlington</td>\n",
       "      <td>1</td>\n",
       "      <td>302.320</td>\n",
       "      <td>0.003308</td>\n",
       "    </tr>\n",
       "    <tr>\n",
       "      <th>3</th>\n",
       "      <td>Banksville</td>\n",
       "      <td>2</td>\n",
       "      <td>622.919</td>\n",
       "      <td>0.003211</td>\n",
       "    </tr>\n",
       "    <tr>\n",
       "      <th>4</th>\n",
       "      <td>Bedford Dwellings</td>\n",
       "      <td>1</td>\n",
       "      <td>115.252</td>\n",
       "      <td>0.008677</td>\n",
       "    </tr>\n",
       "  </tbody>\n",
       "</table>\n",
       "</div>"
      ],
      "text/plain": [
       "        Neighborhood  parkCount    Acres  Parks per Acre\n",
       "0   Allegheny Center          2  134.703        0.014847\n",
       "1          Allentown          2  189.608        0.010548\n",
       "2          Arlington          1  302.320        0.003308\n",
       "3         Banksville          2  622.919        0.003211\n",
       "4  Bedford Dwellings          1  115.252        0.008677"
      ]
     },
     "execution_count": 83,
     "metadata": {},
     "output_type": "execute_result"
    }
   ],
   "source": [
    "parkCountArea[\"Parks per Acre\"] = parkCountArea['parkCount']/parkCountArea['Acres']\n",
    "parkCountArea.head(5)"
   ]
  },
  {
   "cell_type": "code",
   "execution_count": 84,
   "metadata": {},
   "outputs": [
    {
     "data": {
      "text/html": [
       "<div>\n",
       "<style scoped>\n",
       "    .dataframe tbody tr th:only-of-type {\n",
       "        vertical-align: middle;\n",
       "    }\n",
       "\n",
       "    .dataframe tbody tr th {\n",
       "        vertical-align: top;\n",
       "    }\n",
       "\n",
       "    .dataframe thead th {\n",
       "        text-align: right;\n",
       "    }\n",
       "</style>\n",
       "<table border=\"1\" class=\"dataframe\">\n",
       "  <thead>\n",
       "    <tr style=\"text-align: right;\">\n",
       "      <th></th>\n",
       "      <th>Neighborhood</th>\n",
       "      <th>parkCount</th>\n",
       "      <th>Acres</th>\n",
       "      <th>Parks per Acre</th>\n",
       "      <th>Rank</th>\n",
       "    </tr>\n",
       "  </thead>\n",
       "  <tbody>\n",
       "    <tr>\n",
       "      <th>47</th>\n",
       "      <td>Perry North</td>\n",
       "      <td>2</td>\n",
       "      <td>0.000</td>\n",
       "      <td>inf</td>\n",
       "      <td>0</td>\n",
       "    </tr>\n",
       "    <tr>\n",
       "      <th>40</th>\n",
       "      <td>Marshall-Shadeland</td>\n",
       "      <td>4</td>\n",
       "      <td>148.209</td>\n",
       "      <td>0.026989</td>\n",
       "      <td>1</td>\n",
       "    </tr>\n",
       "    <tr>\n",
       "      <th>64</th>\n",
       "      <td>Troy Hill</td>\n",
       "      <td>5</td>\n",
       "      <td>247.170</td>\n",
       "      <td>0.020229</td>\n",
       "      <td>2</td>\n",
       "    </tr>\n",
       "    <tr>\n",
       "      <th>18</th>\n",
       "      <td>Crawford-Roberts</td>\n",
       "      <td>3</td>\n",
       "      <td>166.101</td>\n",
       "      <td>0.018061</td>\n",
       "      <td>3</td>\n",
       "    </tr>\n",
       "    <tr>\n",
       "      <th>39</th>\n",
       "      <td>Manchester</td>\n",
       "      <td>3</td>\n",
       "      <td>179.566</td>\n",
       "      <td>0.016707</td>\n",
       "      <td>4</td>\n",
       "    </tr>\n",
       "    <tr>\n",
       "      <th>45</th>\n",
       "      <td>North Shore</td>\n",
       "      <td>3</td>\n",
       "      <td>195.014</td>\n",
       "      <td>0.015384</td>\n",
       "      <td>5</td>\n",
       "    </tr>\n",
       "    <tr>\n",
       "      <th>0</th>\n",
       "      <td>Allegheny Center</td>\n",
       "      <td>2</td>\n",
       "      <td>134.703</td>\n",
       "      <td>0.014847</td>\n",
       "      <td>6</td>\n",
       "    </tr>\n",
       "    <tr>\n",
       "      <th>55</th>\n",
       "      <td>South Side Slopes</td>\n",
       "      <td>6</td>\n",
       "      <td>460.632</td>\n",
       "      <td>0.013026</td>\n",
       "      <td>7</td>\n",
       "    </tr>\n",
       "    <tr>\n",
       "      <th>26</th>\n",
       "      <td>Fineview</td>\n",
       "      <td>2</td>\n",
       "      <td>160.488</td>\n",
       "      <td>0.012462</td>\n",
       "      <td>8</td>\n",
       "    </tr>\n",
       "    <tr>\n",
       "      <th>15</th>\n",
       "      <td>Central Northside</td>\n",
       "      <td>2</td>\n",
       "      <td>166.475</td>\n",
       "      <td>0.012014</td>\n",
       "      <td>9</td>\n",
       "    </tr>\n",
       "  </tbody>\n",
       "</table>\n",
       "</div>"
      ],
      "text/plain": [
       "          Neighborhood  parkCount    Acres  Parks per Acre  Rank\n",
       "47         Perry North          2    0.000             inf     0\n",
       "40  Marshall-Shadeland          4  148.209        0.026989     1\n",
       "64           Troy Hill          5  247.170        0.020229     2\n",
       "18    Crawford-Roberts          3  166.101        0.018061     3\n",
       "39          Manchester          3  179.566        0.016707     4\n",
       "45         North Shore          3  195.014        0.015384     5\n",
       "0     Allegheny Center          2  134.703        0.014847     6\n",
       "55   South Side Slopes          6  460.632        0.013026     7\n",
       "26            Fineview          2  160.488        0.012462     8\n",
       "15   Central Northside          2  166.475        0.012014     9"
      ]
     },
     "execution_count": 84,
     "metadata": {},
     "output_type": "execute_result"
    }
   ],
   "source": [
    "parkCountArea = parkCountArea.sort_values(\"Parks per Acre\",ascending = False)\n",
    "parkCountArea['Rank'] = np.arange(len(parkCountArea))\n",
    "parkCountArea.head(10)"
   ]
  },
  {
   "cell_type": "code",
   "execution_count": 85,
   "metadata": {},
   "outputs": [
    {
     "data": {
      "text/plain": [
       "Text(0, 0.5, 'Number of Parks per Acre')"
      ]
     },
     "execution_count": 85,
     "metadata": {},
     "output_type": "execute_result"
    },
    {
     "data": {
      "image/png": "[encoded data removed]",
      "text/plain": [
       "<Figure size 432x288 with 1 Axes>"
      ]
     },
     "metadata": {},
     "output_type": "display_data"
    }
   ],
   "source": [
    "plt.style.use('ggplot')\n",
    "parkCountArea[[\"Neighborhood\",\"Parks per Acre\"]].head(10).plot.bar(rot=55, color = \"Green\",x='Neighborhood',y=\"Parks per Acre\")\n",
    "plt.title(\"Pittsburgh Neighborhood Park Density\")\n",
    "plt.xlabel(\"Neighborhood\")\n",
    "plt.ylabel(\"Number of Parks per Acre\")"
   ]
  },
  {
   "cell_type": "markdown",
   "metadata": {},
   "source": [
    "Here are the top ten neighborhoods in parks per acre density. This means these neighborhoods have the most parks compared to their size, so it will take less distance to visit them. Having more parks per acre means there is more area reserved for outdoor spaces compared to roads and buildings. This contributes to the neighborhood having a higher quality environment."
   ]
  },
  {
   "cell_type": "markdown",
   "metadata": {},
   "source": [
    "# Parks Density by Population"
   ]
  },
  {
   "cell_type": "code",
   "execution_count": 86,
   "metadata": {},
   "outputs": [
    {
     "data": {
      "text/html": [
       "<div>\n",
       "<style scoped>\n",
       "    .dataframe tbody tr th:only-of-type {\n",
       "        vertical-align: middle;\n",
       "    }\n",
       "\n",
       "    .dataframe tbody tr th {\n",
       "        vertical-align: top;\n",
       "    }\n",
       "\n",
       "    .dataframe thead th {\n",
       "        text-align: right;\n",
       "    }\n",
       "</style>\n",
       "<table border=\"1\" class=\"dataframe\">\n",
       "  <thead>\n",
       "    <tr style=\"text-align: right;\">\n",
       "      <th></th>\n",
       "      <th>Neighborhood</th>\n",
       "      <th>2020_Total_Population</th>\n",
       "    </tr>\n",
       "  </thead>\n",
       "  <tbody>\n",
       "    <tr>\n",
       "      <th>0</th>\n",
       "      <td>Allegheny Center</td>\n",
       "      <td>1419</td>\n",
       "    </tr>\n",
       "    <tr>\n",
       "      <th>1</th>\n",
       "      <td>Allegheny West</td>\n",
       "      <td>540</td>\n",
       "    </tr>\n",
       "    <tr>\n",
       "      <th>2</th>\n",
       "      <td>Allentown</td>\n",
       "      <td>2305</td>\n",
       "    </tr>\n",
       "    <tr>\n",
       "      <th>3</th>\n",
       "      <td>Arlington - Arlington Heights (Combined)</td>\n",
       "      <td>2040</td>\n",
       "    </tr>\n",
       "    <tr>\n",
       "      <th>4</th>\n",
       "      <td>Banksville</td>\n",
       "      <td>4127</td>\n",
       "    </tr>\n",
       "  </tbody>\n",
       "</table>\n",
       "</div>"
      ],
      "text/plain": [
       "                               Neighborhood  2020_Total_Population\n",
       "0                          Allegheny Center                   1419\n",
       "1                            Allegheny West                    540\n",
       "2                                 Allentown                   2305\n",
       "3  Arlington - Arlington Heights (Combined)                   2040\n",
       "4                                Banksville                   4127"
      ]
     },
     "execution_count": 86,
     "metadata": {},
     "output_type": "execute_result"
    }
   ],
   "source": [
    "pops = pd.read_csv(\"NeighborhoodPopulations.csv\")\n",
    "pops = pops[[\"Neighborhood\",\"2020_Total_Population\"]]\n",
    "pops.head(5)"
   ]
  },
  {
   "cell_type": "code",
   "execution_count": 87,
   "metadata": {},
   "outputs": [
    {
     "data": {
      "text/html": [
       "<div>\n",
       "<style scoped>\n",
       "    .dataframe tbody tr th:only-of-type {\n",
       "        vertical-align: middle;\n",
       "    }\n",
       "\n",
       "    .dataframe tbody tr th {\n",
       "        vertical-align: top;\n",
       "    }\n",
       "\n",
       "    .dataframe thead th {\n",
       "        text-align: right;\n",
       "    }\n",
       "</style>\n",
       "<table border=\"1\" class=\"dataframe\">\n",
       "  <thead>\n",
       "    <tr style=\"text-align: right;\">\n",
       "      <th></th>\n",
       "      <th>Neighborhood</th>\n",
       "      <th>parkCount</th>\n",
       "      <th>2020_Total_Population</th>\n",
       "    </tr>\n",
       "  </thead>\n",
       "  <tbody>\n",
       "    <tr>\n",
       "      <th>0</th>\n",
       "      <td>Allegheny Center</td>\n",
       "      <td>2</td>\n",
       "      <td>1419</td>\n",
       "    </tr>\n",
       "    <tr>\n",
       "      <th>1</th>\n",
       "      <td>Allentown</td>\n",
       "      <td>2</td>\n",
       "      <td>2305</td>\n",
       "    </tr>\n",
       "    <tr>\n",
       "      <th>2</th>\n",
       "      <td>Banksville</td>\n",
       "      <td>2</td>\n",
       "      <td>4127</td>\n",
       "    </tr>\n",
       "    <tr>\n",
       "      <th>3</th>\n",
       "      <td>Bedford Dwellings</td>\n",
       "      <td>1</td>\n",
       "      <td>1386</td>\n",
       "    </tr>\n",
       "    <tr>\n",
       "      <th>4</th>\n",
       "      <td>Beechview</td>\n",
       "      <td>6</td>\n",
       "      <td>7596</td>\n",
       "    </tr>\n",
       "  </tbody>\n",
       "</table>\n",
       "</div>"
      ],
      "text/plain": [
       "        Neighborhood  parkCount  2020_Total_Population\n",
       "0   Allegheny Center          2                   1419\n",
       "1          Allentown          2                   2305\n",
       "2         Banksville          2                   4127\n",
       "3  Bedford Dwellings          1                   1386\n",
       "4          Beechview          6                   7596"
      ]
     },
     "execution_count": 87,
     "metadata": {},
     "output_type": "execute_result"
    }
   ],
   "source": [
    "pops = pops.sort_values('Neighborhood')\n",
    "parkCount = pd.DataFrame(parkCount)\n",
    "parkCount = parkCount.sort_values(by=\"neighborhood\")\n",
    "parkCountPop = parkCount.merge(pops,how='inner',left_on=\"neighborhood\",right_on=\"Neighborhood\")\n",
    "columns_titles = [\"Neighborhood\",\"parkCount\",\"2020_Total_Population\"]\n",
    "parkCountPop = parkCountPop.reindex(columns=columns_titles)\n",
    "parkCountPop.head(5)"
   ]
  },
  {
   "cell_type": "code",
   "execution_count": 88,
   "metadata": {},
   "outputs": [
    {
     "data": {
      "text/html": [
       "<div>\n",
       "<style scoped>\n",
       "    .dataframe tbody tr th:only-of-type {\n",
       "        vertical-align: middle;\n",
       "    }\n",
       "\n",
       "    .dataframe tbody tr th {\n",
       "        vertical-align: top;\n",
       "    }\n",
       "\n",
       "    .dataframe thead th {\n",
       "        text-align: right;\n",
       "    }\n",
       "</style>\n",
       "<table border=\"1\" class=\"dataframe\">\n",
       "  <thead>\n",
       "    <tr style=\"text-align: right;\">\n",
       "      <th></th>\n",
       "      <th>Neighborhood</th>\n",
       "      <th>parkCount</th>\n",
       "      <th>2020_Total_Population</th>\n",
       "      <th>Parks per Person</th>\n",
       "    </tr>\n",
       "  </thead>\n",
       "  <tbody>\n",
       "    <tr>\n",
       "      <th>0</th>\n",
       "      <td>Allegheny Center</td>\n",
       "      <td>2</td>\n",
       "      <td>1419</td>\n",
       "      <td>0.001409</td>\n",
       "    </tr>\n",
       "    <tr>\n",
       "      <th>1</th>\n",
       "      <td>Allentown</td>\n",
       "      <td>2</td>\n",
       "      <td>2305</td>\n",
       "      <td>0.000868</td>\n",
       "    </tr>\n",
       "    <tr>\n",
       "      <th>2</th>\n",
       "      <td>Banksville</td>\n",
       "      <td>2</td>\n",
       "      <td>4127</td>\n",
       "      <td>0.000485</td>\n",
       "    </tr>\n",
       "    <tr>\n",
       "      <th>3</th>\n",
       "      <td>Bedford Dwellings</td>\n",
       "      <td>1</td>\n",
       "      <td>1386</td>\n",
       "      <td>0.000722</td>\n",
       "    </tr>\n",
       "    <tr>\n",
       "      <th>4</th>\n",
       "      <td>Beechview</td>\n",
       "      <td>6</td>\n",
       "      <td>7596</td>\n",
       "      <td>0.000790</td>\n",
       "    </tr>\n",
       "  </tbody>\n",
       "</table>\n",
       "</div>"
      ],
      "text/plain": [
       "        Neighborhood  parkCount  2020_Total_Population  Parks per Person\n",
       "0   Allegheny Center          2                   1419          0.001409\n",
       "1          Allentown          2                   2305          0.000868\n",
       "2         Banksville          2                   4127          0.000485\n",
       "3  Bedford Dwellings          1                   1386          0.000722\n",
       "4          Beechview          6                   7596          0.000790"
      ]
     },
     "execution_count": 88,
     "metadata": {},
     "output_type": "execute_result"
    }
   ],
   "source": [
    "parkCountPop[\"Parks per Person\"] = parkCountPop['parkCount']/parkCountPop['2020_Total_Population']\n",
    "parkCountPop.head(5)"
   ]
  },
  {
   "cell_type": "code",
   "execution_count": 89,
   "metadata": {},
   "outputs": [
    {
     "data": {
      "text/html": [
       "<div>\n",
       "<style scoped>\n",
       "    .dataframe tbody tr th:only-of-type {\n",
       "        vertical-align: middle;\n",
       "    }\n",
       "\n",
       "    .dataframe tbody tr th {\n",
       "        vertical-align: top;\n",
       "    }\n",
       "\n",
       "    .dataframe thead th {\n",
       "        text-align: right;\n",
       "    }\n",
       "</style>\n",
       "<table border=\"1\" class=\"dataframe\">\n",
       "  <thead>\n",
       "    <tr style=\"text-align: right;\">\n",
       "      <th></th>\n",
       "      <th>Neighborhood</th>\n",
       "      <th>parkCount</th>\n",
       "      <th>2020_Total_Population</th>\n",
       "      <th>Parks per Person</th>\n",
       "      <th>Rank</th>\n",
       "    </tr>\n",
       "  </thead>\n",
       "  <tbody>\n",
       "    <tr>\n",
       "      <th>43</th>\n",
       "      <td>North Shore</td>\n",
       "      <td>3</td>\n",
       "      <td>301</td>\n",
       "      <td>0.009967</td>\n",
       "      <td>0</td>\n",
       "    </tr>\n",
       "    <tr>\n",
       "      <th>64</th>\n",
       "      <td>West End</td>\n",
       "      <td>1</td>\n",
       "      <td>205</td>\n",
       "      <td>0.004878</td>\n",
       "      <td>1</td>\n",
       "    </tr>\n",
       "    <tr>\n",
       "      <th>27</th>\n",
       "      <td>Hays</td>\n",
       "      <td>1</td>\n",
       "      <td>321</td>\n",
       "      <td>0.003115</td>\n",
       "      <td>2</td>\n",
       "    </tr>\n",
       "    <tr>\n",
       "      <th>22</th>\n",
       "      <td>Esplen</td>\n",
       "      <td>1</td>\n",
       "      <td>322</td>\n",
       "      <td>0.003106</td>\n",
       "      <td>3</td>\n",
       "    </tr>\n",
       "    <tr>\n",
       "      <th>54</th>\n",
       "      <td>Spring Garden</td>\n",
       "      <td>2</td>\n",
       "      <td>786</td>\n",
       "      <td>0.002545</td>\n",
       "      <td>4</td>\n",
       "    </tr>\n",
       "    <tr>\n",
       "      <th>...</th>\n",
       "      <td>...</td>\n",
       "      <td>...</td>\n",
       "      <td>...</td>\n",
       "      <td>...</td>\n",
       "      <td>...</td>\n",
       "    </tr>\n",
       "    <tr>\n",
       "      <th>56</th>\n",
       "      <td>Squirrel Hill South</td>\n",
       "      <td>3</td>\n",
       "      <td>15317</td>\n",
       "      <td>0.000196</td>\n",
       "      <td>63</td>\n",
       "    </tr>\n",
       "    <tr>\n",
       "      <th>47</th>\n",
       "      <td>Point Breeze</td>\n",
       "      <td>1</td>\n",
       "      <td>5348</td>\n",
       "      <td>0.000187</td>\n",
       "      <td>64</td>\n",
       "    </tr>\n",
       "    <tr>\n",
       "      <th>7</th>\n",
       "      <td>Bluff</td>\n",
       "      <td>1</td>\n",
       "      <td>5882</td>\n",
       "      <td>0.000170</td>\n",
       "      <td>65</td>\n",
       "    </tr>\n",
       "    <tr>\n",
       "      <th>10</th>\n",
       "      <td>Brookline</td>\n",
       "      <td>2</td>\n",
       "      <td>13063</td>\n",
       "      <td>0.000153</td>\n",
       "      <td>66</td>\n",
       "    </tr>\n",
       "    <tr>\n",
       "      <th>55</th>\n",
       "      <td>Squirrel Hill North</td>\n",
       "      <td>1</td>\n",
       "      <td>11879</td>\n",
       "      <td>0.000084</td>\n",
       "      <td>67</td>\n",
       "    </tr>\n",
       "  </tbody>\n",
       "</table>\n",
       "<p>68 rows × 5 columns</p>\n",
       "</div>"
      ],
      "text/plain": [
       "           Neighborhood  parkCount  2020_Total_Population  Parks per Person  \\\n",
       "43          North Shore          3                    301          0.009967   \n",
       "64             West End          1                    205          0.004878   \n",
       "27                 Hays          1                    321          0.003115   \n",
       "22               Esplen          1                    322          0.003106   \n",
       "54        Spring Garden          2                    786          0.002545   \n",
       "..                  ...        ...                    ...               ...   \n",
       "56  Squirrel Hill South          3                  15317          0.000196   \n",
       "47         Point Breeze          1                   5348          0.000187   \n",
       "7                 Bluff          1                   5882          0.000170   \n",
       "10            Brookline          2                  13063          0.000153   \n",
       "55  Squirrel Hill North          1                  11879          0.000084   \n",
       "\n",
       "    Rank  \n",
       "43     0  \n",
       "64     1  \n",
       "27     2  \n",
       "22     3  \n",
       "54     4  \n",
       "..   ...  \n",
       "56    63  \n",
       "47    64  \n",
       "7     65  \n",
       "10    66  \n",
       "55    67  \n",
       "\n",
       "[68 rows x 5 columns]"
      ]
     },
     "execution_count": 89,
     "metadata": {},
     "output_type": "execute_result"
    }
   ],
   "source": [
    "parkCountPop = parkCountPop.sort_values(\"Parks per Person\",ascending = False)\n",
    "parkCountPop['Rank'] = np.arange(len(parkCountPop))\n",
    "parkCountPop"
   ]
  },
  {
   "cell_type": "code",
   "execution_count": 90,
   "metadata": {},
   "outputs": [
    {
     "data": {
      "text/plain": [
       "Text(0, 0.5, 'Number of Parks per Person')"
      ]
     },
     "execution_count": 90,
     "metadata": {},
     "output_type": "execute_result"
    },
    {
     "data": {
      "image/png": "[encoded data removed]",
      "text/plain": [
       "<Figure size 432x288 with 1 Axes>"
      ]
     },
     "metadata": {},
     "output_type": "display_data"
    }
   ],
   "source": [
    "plt.style.use('ggplot')\n",
    "parkCountPop[[\"Neighborhood\",\"Parks per Person\"]].head(10).plot.bar(rot=55, color = \"Green\",x='Neighborhood',y=\"Parks per Person\")\n",
    "plt.title(\"Pittsburgh Neighborhood Park Density\")\n",
    "plt.xlabel(\"Neighborhood\")\n",
    "plt.ylabel(\"Number of Parks per Person\")"
   ]
  },
  {
   "cell_type": "markdown",
   "metadata": {},
   "source": [
    "Here are the top ten neighborhoods in parks per person. This means these neighborhoods have the most parks compared to their population, so there will be more parks per residence. Having more parks per person means there is more area reserved for outdoor spaces because of there is a higher density of parks when compared to the space that residences would take up. This contributes to the neighborhood having a higher quality environment."
   ]
  },
  {
   "cell_type": "markdown",
   "metadata": {},
   "source": [
    "# Combining the two density submetrics"
   ]
  },
  {
   "cell_type": "code",
   "execution_count": 91,
   "metadata": {},
   "outputs": [
    {
     "data": {
      "text/html": [
       "<div>\n",
       "<style scoped>\n",
       "    .dataframe tbody tr th:only-of-type {\n",
       "        vertical-align: middle;\n",
       "    }\n",
       "\n",
       "    .dataframe tbody tr th {\n",
       "        vertical-align: top;\n",
       "    }\n",
       "\n",
       "    .dataframe thead th {\n",
       "        text-align: right;\n",
       "    }\n",
       "</style>\n",
       "<table border=\"1\" class=\"dataframe\">\n",
       "  <thead>\n",
       "    <tr style=\"text-align: right;\">\n",
       "      <th></th>\n",
       "      <th>Neighborhood</th>\n",
       "      <th>Area Rank</th>\n",
       "      <th>Population Rank</th>\n",
       "    </tr>\n",
       "  </thead>\n",
       "  <tbody>\n",
       "    <tr>\n",
       "      <th>0</th>\n",
       "      <td>Allegheny Center</td>\n",
       "      <td>6</td>\n",
       "      <td>12</td>\n",
       "    </tr>\n",
       "    <tr>\n",
       "      <th>1</th>\n",
       "      <td>Allentown</td>\n",
       "      <td>17</td>\n",
       "      <td>25</td>\n",
       "    </tr>\n",
       "    <tr>\n",
       "      <th>2</th>\n",
       "      <td>Banksville</td>\n",
       "      <td>55</td>\n",
       "      <td>47</td>\n",
       "    </tr>\n",
       "    <tr>\n",
       "      <th>3</th>\n",
       "      <td>Bedford Dwellings</td>\n",
       "      <td>22</td>\n",
       "      <td>33</td>\n",
       "    </tr>\n",
       "    <tr>\n",
       "      <th>4</th>\n",
       "      <td>Beechview</td>\n",
       "      <td>32</td>\n",
       "      <td>29</td>\n",
       "    </tr>\n",
       "    <tr>\n",
       "      <th>...</th>\n",
       "      <td>...</td>\n",
       "      <td>...</td>\n",
       "      <td>...</td>\n",
       "    </tr>\n",
       "    <tr>\n",
       "      <th>63</th>\n",
       "      <td>Upper Lawrenceville</td>\n",
       "      <td>10</td>\n",
       "      <td>17</td>\n",
       "    </tr>\n",
       "    <tr>\n",
       "      <th>64</th>\n",
       "      <td>West End</td>\n",
       "      <td>24</td>\n",
       "      <td>1</td>\n",
       "    </tr>\n",
       "    <tr>\n",
       "      <th>65</th>\n",
       "      <td>West Oakland</td>\n",
       "      <td>27</td>\n",
       "      <td>52</td>\n",
       "    </tr>\n",
       "    <tr>\n",
       "      <th>66</th>\n",
       "      <td>Westwood</td>\n",
       "      <td>43</td>\n",
       "      <td>38</td>\n",
       "    </tr>\n",
       "    <tr>\n",
       "      <th>67</th>\n",
       "      <td>Windgap</td>\n",
       "      <td>49</td>\n",
       "      <td>32</td>\n",
       "    </tr>\n",
       "  </tbody>\n",
       "</table>\n",
       "<p>68 rows × 3 columns</p>\n",
       "</div>"
      ],
      "text/plain": [
       "           Neighborhood  Area Rank  Population Rank\n",
       "0      Allegheny Center          6               12\n",
       "1             Allentown         17               25\n",
       "2            Banksville         55               47\n",
       "3     Bedford Dwellings         22               33\n",
       "4             Beechview         32               29\n",
       "..                  ...        ...              ...\n",
       "63  Upper Lawrenceville         10               17\n",
       "64             West End         24                1\n",
       "65         West Oakland         27               52\n",
       "66             Westwood         43               38\n",
       "67              Windgap         49               32\n",
       "\n",
       "[68 rows x 3 columns]"
      ]
     },
     "execution_count": 91,
     "metadata": {},
     "output_type": "execute_result"
    }
   ],
   "source": [
    "parkCountArea = parkCountArea.sort_values('Neighborhood')\n",
    "parkCountPop = parkCountPop.sort_values('Neighborhood')\n",
    "mergedRanks = parkCountArea.merge(parkCountPop,left_on=\"Neighborhood\",right_on=\"Neighborhood\")\n",
    "mergedRanks = mergedRanks[[\"Neighborhood\",\"Rank_x\",\"Rank_y\"]]\n",
    "mergedRanks = mergedRanks.rename(columns={\"Rank_x\":\"Area Rank\",\"Rank_y\":\"Population Rank\"})\n",
    "mergedRanks"
   ]
  },
  {
   "cell_type": "code",
   "execution_count": 92,
   "metadata": {},
   "outputs": [
    {
     "data": {
      "text/html": [
       "<div>\n",
       "<style scoped>\n",
       "    .dataframe tbody tr th:only-of-type {\n",
       "        vertical-align: middle;\n",
       "    }\n",
       "\n",
       "    .dataframe tbody tr th {\n",
       "        vertical-align: top;\n",
       "    }\n",
       "\n",
       "    .dataframe thead th {\n",
       "        text-align: right;\n",
       "    }\n",
       "</style>\n",
       "<table border=\"1\" class=\"dataframe\">\n",
       "  <thead>\n",
       "    <tr style=\"text-align: right;\">\n",
       "      <th></th>\n",
       "      <th>Neighborhood</th>\n",
       "      <th>Area Rank</th>\n",
       "      <th>Population Rank</th>\n",
       "      <th>Average Rank</th>\n",
       "    </tr>\n",
       "  </thead>\n",
       "  <tbody>\n",
       "    <tr>\n",
       "      <th>0</th>\n",
       "      <td>Allegheny Center</td>\n",
       "      <td>6</td>\n",
       "      <td>12</td>\n",
       "      <td>4.2</td>\n",
       "    </tr>\n",
       "    <tr>\n",
       "      <th>1</th>\n",
       "      <td>Allentown</td>\n",
       "      <td>17</td>\n",
       "      <td>25</td>\n",
       "      <td>11.0</td>\n",
       "    </tr>\n",
       "    <tr>\n",
       "      <th>2</th>\n",
       "      <td>Banksville</td>\n",
       "      <td>55</td>\n",
       "      <td>47</td>\n",
       "      <td>32.2</td>\n",
       "    </tr>\n",
       "    <tr>\n",
       "      <th>3</th>\n",
       "      <td>Bedford Dwellings</td>\n",
       "      <td>22</td>\n",
       "      <td>33</td>\n",
       "      <td>14.3</td>\n",
       "    </tr>\n",
       "    <tr>\n",
       "      <th>4</th>\n",
       "      <td>Beechview</td>\n",
       "      <td>32</td>\n",
       "      <td>29</td>\n",
       "      <td>18.9</td>\n",
       "    </tr>\n",
       "    <tr>\n",
       "      <th>...</th>\n",
       "      <td>...</td>\n",
       "      <td>...</td>\n",
       "      <td>...</td>\n",
       "      <td>...</td>\n",
       "    </tr>\n",
       "    <tr>\n",
       "      <th>63</th>\n",
       "      <td>Upper Lawrenceville</td>\n",
       "      <td>10</td>\n",
       "      <td>17</td>\n",
       "      <td>6.7</td>\n",
       "    </tr>\n",
       "    <tr>\n",
       "      <th>64</th>\n",
       "      <td>West End</td>\n",
       "      <td>24</td>\n",
       "      <td>1</td>\n",
       "      <td>12.1</td>\n",
       "    </tr>\n",
       "    <tr>\n",
       "      <th>65</th>\n",
       "      <td>West Oakland</td>\n",
       "      <td>27</td>\n",
       "      <td>52</td>\n",
       "      <td>18.7</td>\n",
       "    </tr>\n",
       "    <tr>\n",
       "      <th>66</th>\n",
       "      <td>Westwood</td>\n",
       "      <td>43</td>\n",
       "      <td>38</td>\n",
       "      <td>25.3</td>\n",
       "    </tr>\n",
       "    <tr>\n",
       "      <th>67</th>\n",
       "      <td>Windgap</td>\n",
       "      <td>49</td>\n",
       "      <td>32</td>\n",
       "      <td>27.7</td>\n",
       "    </tr>\n",
       "  </tbody>\n",
       "</table>\n",
       "<p>68 rows × 4 columns</p>\n",
       "</div>"
      ],
      "text/plain": [
       "           Neighborhood  Area Rank  Population Rank  Average Rank\n",
       "0      Allegheny Center          6               12           4.2\n",
       "1             Allentown         17               25          11.0\n",
       "2            Banksville         55               47          32.2\n",
       "3     Bedford Dwellings         22               33          14.3\n",
       "4             Beechview         32               29          18.9\n",
       "..                  ...        ...              ...           ...\n",
       "63  Upper Lawrenceville         10               17           6.7\n",
       "64             West End         24                1          12.1\n",
       "65         West Oakland         27               52          18.7\n",
       "66             Westwood         43               38          25.3\n",
       "67              Windgap         49               32          27.7\n",
       "\n",
       "[68 rows x 4 columns]"
      ]
     },
     "execution_count": 92,
     "metadata": {},
     "output_type": "execute_result"
    }
   ],
   "source": [
    "mergedRanks[\"Average Rank\"] = (mergedRanks[\"Area Rank\"] + mergedRanks[\"Population Rank\"]/5)/2\n",
    "mergedRanks"
   ]
  },
  {
   "cell_type": "markdown",
   "metadata": {},
   "source": [
    "When combining the ranks to an average rank, I weighted the Population Rank less by dividing it by 5. This is because density of parks per acre is a much better measurement of the quality of the environment compared to parks per person."
   ]
  },
  {
   "cell_type": "code",
   "execution_count": 93,
   "metadata": {},
   "outputs": [
    {
     "name": "stdout",
     "output_type": "stream",
     "text": [
      "[56]\n"
     ]
    }
   ],
   "source": [
    "mergedRanks = mergedRanks.sort_values(by=\"Average Rank\")\n",
    "mergedRanks = mergedRanks[[\"Neighborhood\",\"Average Rank\"]]\n",
    "print(mergedRanks[mergedRanks[\"Neighborhood\"]==\"Squirrel Hill South\"].index.values)"
   ]
  },
  {
   "cell_type": "code",
   "execution_count": 94,
   "metadata": {},
   "outputs": [
    {
     "data": {
      "text/plain": [
       "Text(0, 0.5, 'Average Ranking')"
      ]
     },
     "execution_count": 94,
     "metadata": {},
     "output_type": "execute_result"
    },
    {
     "data": {
      "image/png": "[encoded data removed]",
      "text/plain": [
       "<Figure size 432x288 with 1 Axes>"
      ]
     },
     "metadata": {},
     "output_type": "display_data"
    }
   ],
   "source": [
    "plt.style.use('ggplot')\n",
    "mergedRanks[[\"Neighborhood\",\"Average Rank\"]].head(10).plot.bar(rot=55, color = \"Green\",x='Neighborhood',y=\"Average Rank\")\n",
    "plt.title(\"Pittsburgh Neighborhood Parks Rank\")\n",
    "plt.xlabel(\"Neighborhood\")\n",
    "plt.ylabel(\"Average Ranking\")"
   ]
  },
  {
   "cell_type": "markdown",
   "metadata": {},
   "source": [
    "This graph shows the average ranking of Pittsburgh neighborhoods between the metrics of parks per acre and parks per person. A lower ranking value is better because it means the neighborhood placed higher on the list."
   ]
  },
  {
   "cell_type": "markdown",
   "metadata": {},
   "source": [
    "# Conclusion\n",
    "\n",
    "When considering the metric of both park density by area and by population, **East Liberty** has the highest parks ranking from my analysis.\n",
    "\n",
    "However, it is important to note that there many flaws in this data and this analysis:\n",
    "1. The parks dataset only contains 73 out of 90 Pittsburgh neighborhoods.\n",
    "2. The final ranking list contains less neighborhoods, at 68.\n",
    "3. There are only 153 usable entries in this dataset, spread across 73 neighborhoods, which means many neighborhoods end up with 1 or 2 parks, and thus are easily skewed.\n",
    "4. The size, quality, and construction of the parks are important to consider. For example, Schenley Park is clearly a much better and more expansive park than something like Able Long Park, which is merely a playground. In order to combat this flaw, it would be necessary to consider each of the 153 parks individually, rate them, and then use that data in this analysis. However, that is obviously unfeasible and unsuited for the nature of this project.\n",
    "5. The area density of the parks would make more sense if the areas of the parks were included, not just the quantity.\n",
    "\n",
    "Personally, my favorite neighborhood in Pittsburgh would be Shadyside, but unfortunately it did not make the top ten in this metric."
   ]
  }
 ],
 "metadata": {
  "kernelspec": {
   "display_name": "Python 3",
   "language": "python",
   "name": "python3"
  },
  "language_info": {
   "codemirror_mode": {
    "name": "ipython",
    "version": 3
   },
   "file_extension": ".py",
   "mimetype": "text/x-python",
   "name": "python",
   "nbconvert_exporter": "python",
   "pygments_lexer": "ipython3",
   "version": "3.8.3"
  }
 },
 "nbformat": 4,
 "nbformat_minor": 4
}
