{
 "cells": [
  {
   "cell_type": "code",
   "execution_count": 147,
   "metadata": {},
   "outputs": [],
   "source": [
    "import pandas as pd\n",
    "import numpy as np\n",
    "%matplotlib inline\n",
    "import matplotlib.pyplot as plt"
   ]
  },
  {
   "cell_type": "code",
   "execution_count": 58,
   "metadata": {},
   "outputs": [],
   "source": [
    "t = pd.read_csv(\"TreesData.csv\", low_memory=False)"
   ]
  },
  {
   "cell_type": "code",
   "execution_count": 5,
   "metadata": {},
   "outputs": [
    {
     "name": "stdout",
     "output_type": "stream",
     "text": [
      "['Homewood North' 'Oakwood' 'South Side Flats' 'East Allegheny'\n",
      " 'Highland Park' 'Stanton Heights' 'Sheraden' 'Chartiers City' 'Elliott'\n",
      " 'Morningside' 'Bloomfield' 'Friendship' 'Garfield' 'Polish Hill'\n",
      " 'Lower Lawrenceville' 'Central Northside' 'East Liberty'\n",
      " 'Central Lawrenceville' 'Shadyside' 'Allegheny Center' 'Homewood South'\n",
      " 'Point Breeze North' 'East Hills' 'Homewood West' 'Greenfield'\n",
      " 'Hazelwood' 'Squirrel Hill South' 'Marshall-Shadeland' 'Brighton Heights'\n",
      " 'North Shore' 'Overbrook' 'Knoxville' 'Brookline' 'South Side Slopes'\n",
      " 'Arlington' 'Arlington Heights' 'Carrick' 'Bedford Dwellings'\n",
      " 'Central Business District' 'Bluff' 'West Oakland' 'South Oakland'\n",
      " 'Squirrel Hill North' 'Point Breeze' 'Lincoln-Lemington-Belmar' 'Bon Air'\n",
      " 'Mount Washington' 'California-Kirkbride' 'New Homestead'\n",
      " 'Central Oakland' 'Crafton Heights' 'Beechview' 'Manchester' 'Allentown'\n",
      " 'Beltzhoover' 'Allegheny West' 'Chateau' 'Duquesne Heights' 'Perry North'\n",
      " 'Perry South' 'Middle Hill' 'Troy Hill' 'Terrace Village' 'Upper Hill'\n",
      " 'North Oakland' 'Fineview' 'Strip District' 'Windgap' 'Crawford-Roberts'\n",
      " 'Larimer' 'Lincoln Place' 'Regent Square' 'Banksville' 'Swisshelm Park'\n",
      " 'Spring Garden' 'Spring Hill-City View' 'Westwood' 'Fairywood'\n",
      " 'Summer Hill' 'West End' 'Upper Lawrenceville' 'Ridgemont' 'Esplen'\n",
      " 'East Carnegie' 'South Shore' 'St. Clair' 'Mt. Oliver'\n",
      " 'Northview Heights' nan 'Glen Hazel' 'Hays']\n",
      "Total:  91\n"
     ]
    }
   ],
   "source": [
    "q = t['neighborhood'].unique()\n",
    "w = len(t['neighborhood'].unique())\n",
    "print(q)\n",
    "print(\"Total: \", w)"
   ]
  },
  {
   "cell_type": "markdown",
   "metadata": {},
   "source": [
    "# ------------------------------------------------------------------------------------\n",
    "\n",
    "## Data Analysis:"
   ]
  },
  {
   "cell_type": "code",
   "execution_count": 160,
   "metadata": {},
   "outputs": [
    {
     "data": {
      "text/plain": [
       "<matplotlib.axes._subplots.AxesSubplot at 0x7f1fb7845520>"
      ]
     },
     "execution_count": 160,
     "metadata": {},
     "output_type": "execute_result"
    },
    {
     "data": {
      "image/png": "[encoded data removed]",
      "text/plain": [
       "<Figure size 432x288 with 1 Axes>"
      ]
     },
     "metadata": {
      "needs_background": "light"
     },
     "output_type": "display_data"
    }
   ],
   "source": [
    "neighborhoodList=[]\n",
    "averageCO2ValueList=[]\n",
    "for a in q: \n",
    "    neighborhoodList.append(a)\n",
    "\n",
    "for n in neighborhoodList:\n",
    "    b = t['neighborhood'] == n\n",
    "    bb = t[b]\n",
    "    BBB = bb['co2_benefits_dollar_value'].mean()\n",
    "    averageCO2ValueList.append(BBB)\n",
    "\n",
    "allData = pd.Series(averageCO2ValueList, index=neighborhoodList)\n",
    "allData.sort_values(ascending=False, inplace=True)\n",
    "topTenData=allData.head(10)\n",
    "topTenData.plot.bar()"
   ]
  },
  {
   "cell_type": "markdown",
   "metadata": {},
   "source": [
    "### Rankings for the highest average CO2 Dollar Value by neighborhood."
   ]
  },
  {
   "cell_type": "code",
   "execution_count": 161,
   "metadata": {},
   "outputs": [
    {
     "data": {
      "text/plain": [
       "<matplotlib.axes._subplots.AxesSubplot at 0x7f1fb7554940>"
      ]
     },
     "execution_count": 161,
     "metadata": {},
     "output_type": "execute_result"
    },
    {
     "data": {
      "image/png": "[encoded data removed]",
      "text/plain": [
       "<Figure size 432x288 with 1 Axes>"
      ]
     },
     "metadata": {
      "needs_background": "light"
     },
     "output_type": "display_data"
    }
   ],
   "source": [
    "neighborhoodList=[]\n",
    "averageAQValueList=[]\n",
    "for a in q: \n",
    "    neighborhoodList.append(a)\n",
    "\n",
    "for n in neighborhoodList:\n",
    "    b = t['neighborhood'] == n\n",
    "    bb = t[b]\n",
    "    BBB = bb['air_quality_benfits_total_dollar_value'].mean()\n",
    "    averageAQValueList.append(BBB)\n",
    "\n",
    "\n",
    "allData6 = pd.Series(averageAQValueList, index=neighborhoodList)\n",
    "allData6.sort_values(ascending=False, inplace=True)\n",
    "topTenData6=allData6.head(10)\n",
    "topTenData6.plot.bar()\n"
   ]
  },
  {
   "cell_type": "markdown",
   "metadata": {},
   "source": [
    "### Rankings for the highest average Air Quality Dollar Value by neighborhood."
   ]
  },
  {
   "cell_type": "markdown",
   "metadata": {},
   "source": [
    "# ------------------------------------------------------------------------------------\n",
    "\n",
    "## It is not enough to have one or the other. Instead, we are looking for a neighborhood that excels in both. Therefore, I am averaging the two stats."
   ]
  },
  {
   "cell_type": "code",
   "execution_count": 162,
   "metadata": {},
   "outputs": [
    {
     "data": {
      "text/plain": [
       "Allegheny Center       7.022776\n",
       "Squirrel Hill North    7.001231\n",
       "Fairywood              6.878808\n",
       "Stanton Heights        6.289645\n",
       "Arlington Heights      6.014613\n",
       "                         ...   \n",
       "South Shore            1.327748\n",
       "Glen Hazel             0.926183\n",
       "Hays                   0.915929\n",
       "Troy Hill              0.758208\n",
       "NaN                         NaN\n",
       "Length: 91, dtype: float64"
      ]
     },
     "execution_count": 162,
     "metadata": {},
     "output_type": "execute_result"
    }
   ],
   "source": [
    "dataAddition = allData6+allData \n",
    "dataAddition.sort_values(ascending=False, inplace=True)\n",
    "dataAddition = dataAddition/2\n",
    "dataAddition\n",
    "#dataAddition10=dataAddition.head(10)\n",
    "#dataAddition10.head(10)"
   ]
  },
  {
   "cell_type": "markdown",
   "metadata": {},
   "source": [
    "## The higher average value of trees, the more effictive those trees will be for the environment for that neighborhood. \n",
    "\n",
    "## However, the current data only shows the average value of trees within a neighborhood. What does this mean? It means that the current amount of data does not take in the quantity of trees within a neighborhood. A neighborhood with ONE very good tree will beat out the average value of a neighborhood with thousands of trees, even though the latter will have a lot bigger impact on the environment.\n",
    "\n",
    "## To compensate for this, I am multipling the average value of trees in a neighborhood by the quantity of trees in that neighborhood to find the true value of trees in the neighborhood. The higher the product, the better it is for the environment. "
   ]
  },
  {
   "cell_type": "code",
   "execution_count": 163,
   "metadata": {},
   "outputs": [
    {
     "data": {
      "text/plain": [
       "neighborhood\n",
       "Squirrel Hill South    5073\n",
       "Highland Park          2941\n",
       "Squirrel Hill North    2083\n",
       "South Side Flats       1693\n",
       "Shadyside              1558\n",
       "                       ... \n",
       "Arlington Heights         5\n",
       "Esplen                    3\n",
       "Glen Hazel                2\n",
       "South Shore               2\n",
       "Hays                      1\n",
       "Name: neighborhood, Length: 90, dtype: int64"
      ]
     },
     "execution_count": 163,
     "metadata": {},
     "output_type": "execute_result"
    }
   ],
   "source": [
    "tN = t.groupby([\"neighborhood\"])[\"neighborhood\"].count()\n",
    "tN.sort_values(ascending=False, inplace=True)\n",
    "tN"
   ]
  },
  {
   "cell_type": "code",
   "execution_count": 173,
   "metadata": {},
   "outputs": [
    {
     "data": {
      "text/plain": [
       "<matplotlib.axes._subplots.AxesSubplot at 0x7f1fb77c5370>"
      ]
     },
     "execution_count": 173,
     "metadata": {},
     "output_type": "execute_result"
    },
    {
     "data": {
      "image/png": "[encoded data removed]",
      "text/plain": [
       "<Figure size 432x288 with 1 Axes>"
      ]
     },
     "metadata": {
      "needs_background": "light"
     },
     "output_type": "display_data"
    }
   ],
   "source": [
    "rankings = dataAddition*tN\n",
    "rankings.sort_values(ascending=False, inplace=True)\n",
    "top10Rankings = rankings.head(10)\n",
    "top10Rankings.plot.bar()"
   ]
  },
  {
   "cell_type": "markdown",
   "metadata": {},
   "source": [
    "# Conclusion:"
   ]
  },
  {
   "cell_type": "markdown",
   "metadata": {},
   "source": [
    "I multiplied the average value of trees in a neighborhood, by the amount of trees in the neighborhood. The higher the product, the more value the trees provide, and therefore the more environmentally beneficial it is. From the chart above, I can confidently declare that Squirrel Hill South is THE best neighborhood."
   ]
  },
  {
   "cell_type": "code",
   "execution_count": null,
   "metadata": {},
   "outputs": [],
   "source": []
  }
 ],
 "metadata": {
  "kernelspec": {
   "display_name": "Python 3",
   "language": "python",
   "name": "python3"
  },
  "language_info": {
   "codemirror_mode": {
    "name": "ipython",
    "version": 3
   },
   "file_extension": ".py",
   "mimetype": "text/x-python",
   "name": "python",
   "nbconvert_exporter": "python",
   "pygments_lexer": "ipython3",
   "version": "3.8.3"
  }
 },
 "nbformat": 4,
 "nbformat_minor": 4
}
