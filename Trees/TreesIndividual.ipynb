{
 "cells": [
  {
   "cell_type": "markdown",
   "metadata": {},
   "source": [
    "# Introduction\n",
    "\n",
    "Our project is centered around finding the best neighborhood with the environment in mind, and our best neighborhood should have the best environment. For my part, I am analyzing trees in the city of Pittsburgh. An alternative I could've explored was a dataset about Air Quality, but I thought the trees dataset was more rich in data.\n",
    "\n",
    "# ------------------------------------------------------------------------------------"
   ]
  },
  {
   "cell_type": "markdown",
   "metadata": {},
   "source": [
    "# Sub Metric\n",
    "\n",
    "For my sub metric, I am analyzing the value of trees in each neighborhood in Pittsburgh. The higher value a tree is, the more/better environmental benefits it will have. \n",
    "\n",
    "# ------------------------------------------------------------------------------------"
   ]
  },
  {
   "cell_type": "markdown",
   "metadata": {},
   "source": [
    "# Determining the Best Neighborhood Through Data:\n",
    "\n",
    "Import and logistics:"
   ]
  },
  {
   "cell_type": "code",
   "execution_count": 5,
   "metadata": {},
   "outputs": [],
   "source": [
    "import pandas as pd\n",
    "import numpy as np\n",
    "%matplotlib inline\n",
    "import matplotlib.pyplot as plt"
   ]
  },
  {
   "cell_type": "code",
   "execution_count": 6,
   "metadata": {},
   "outputs": [],
   "source": [
    "t = pd.read_csv(\"TreesData.csv\", low_memory=False)"
   ]
  },
  {
   "cell_type": "code",
   "execution_count": 7,
   "metadata": {},
   "outputs": [
    {
     "name": "stdout",
     "output_type": "stream",
     "text": [
      "['Homewood North' 'Oakwood' 'South Side Flats' 'East Allegheny'\n",
      " 'Highland Park' 'Stanton Heights' 'Sheraden' 'Chartiers City' 'Elliott'\n",
      " 'Morningside' 'Bloomfield' 'Friendship' 'Garfield' 'Polish Hill'\n",
      " 'Lower Lawrenceville' 'Central Northside' 'East Liberty'\n",
      " 'Central Lawrenceville' 'Shadyside' 'Allegheny Center' 'Homewood South'\n",
      " 'Point Breeze North' 'East Hills' 'Homewood West' 'Greenfield'\n",
      " 'Hazelwood' 'Squirrel Hill South' 'Marshall-Shadeland' 'Brighton Heights'\n",
      " 'North Shore' 'Overbrook' 'Knoxville' 'Brookline' 'South Side Slopes'\n",
      " 'Arlington' 'Arlington Heights' 'Carrick' 'Bedford Dwellings'\n",
      " 'Central Business District' 'Bluff' 'West Oakland' 'South Oakland'\n",
      " 'Squirrel Hill North' 'Point Breeze' 'Lincoln-Lemington-Belmar' 'Bon Air'\n",
      " 'Mount Washington' 'California-Kirkbride' 'New Homestead'\n",
      " 'Central Oakland' 'Crafton Heights' 'Beechview' 'Manchester' 'Allentown'\n",
      " 'Beltzhoover' 'Allegheny West' 'Chateau' 'Duquesne Heights' 'Perry North'\n",
      " 'Perry South' 'Middle Hill' 'Troy Hill' 'Terrace Village' 'Upper Hill'\n",
      " 'North Oakland' 'Fineview' 'Strip District' 'Windgap' 'Crawford-Roberts'\n",
      " 'Larimer' 'Lincoln Place' 'Regent Square' 'Banksville' 'Swisshelm Park'\n",
      " 'Spring Garden' 'Spring Hill-City View' 'Westwood' 'Fairywood'\n",
      " 'Summer Hill' 'West End' 'Upper Lawrenceville' 'Ridgemont' 'Esplen'\n",
      " 'East Carnegie' 'South Shore' 'St. Clair' 'Mt. Oliver'\n",
      " 'Northview Heights' nan 'Glen Hazel' 'Hays']\n",
      "Total:  91\n"
     ]
    }
   ],
   "source": [
    "q = t['neighborhood'].unique()\n",
    "w = len(t['neighborhood'].unique())\n",
    "print(q)\n",
    "print(\"Total: \", w)"
   ]
  },
  {
   "cell_type": "markdown",
   "metadata": {},
   "source": [
    "# ------------------------------------------------------------------------------------\n",
    "\n",
    "## Data Analysis:\n",
    "\n",
    "CO2 emissions are rising, and could have devestating effects like respiratory damage and disorders. For that reason, it is important that a neighborhood has good trees to sequester CO2. I made a loop that would add up, and average the value of all the trees within a neighborhood, for all the neighborhoods within Pittsburgh."
   ]
  },
  {
   "cell_type": "code",
   "execution_count": 8,
   "metadata": {},
   "outputs": [
    {
     "data": {
      "text/plain": [
       "<matplotlib.axes._subplots.AxesSubplot at 0x7f67c6124940>"
      ]
     },
     "execution_count": 8,
     "metadata": {},
     "output_type": "execute_result"
    },
    {
     "data": {
      "image/png": "[encoded data removed]",
      "text/plain": [
       "<Figure size 432x288 with 1 Axes>"
      ]
     },
     "metadata": {
      "needs_background": "light"
     },
     "output_type": "display_data"
    }
   ],
   "source": [
    "neighborhoodList=[]\n",
    "averageCO2ValueList=[]\n",
    "for a in q: \n",
    "    neighborhoodList.append(a)\n",
    "\n",
    "for n in neighborhoodList:\n",
    "    b = t['neighborhood'] == n\n",
    "    bb = t[b]\n",
    "    BBB = bb['co2_benefits_dollar_value'].mean()\n",
    "    averageCO2ValueList.append(BBB)\n",
    "\n",
    "allData = pd.Series(averageCO2ValueList, index=neighborhoodList)\n",
    "CO2 = pd.Series(averageCO2ValueList, index=neighborhoodList)\n",
    "allData.sort_values(ascending=False, inplace=True)\n",
    "topTenData=allData.head(10)\n",
    "topTenData.plot.bar()"
   ]
  },
  {
   "cell_type": "markdown",
   "metadata": {},
   "source": [
    "This is the rankings for the highest average tree dollar Value by neighborhood (by CO2). The results are close, and there is no clear winner.\n",
    "\n",
    "Not only that, Pittsburgh is known as the \"Steel City\" for its industrialism. As a result, the air we breath are polluted from these industries. On the bright side, trees remove pollutants like gasses and help improve air quality. Once again, a loop is established to sum, and average the value of trees when it comes to improving Air Quality. This is done for all neighborhoods within Pittsburgh."
   ]
  },
  {
   "cell_type": "code",
   "execution_count": 9,
   "metadata": {},
   "outputs": [
    {
     "data": {
      "text/plain": [
       "<matplotlib.axes._subplots.AxesSubplot at 0x7f67c5bd78b0>"
      ]
     },
     "execution_count": 9,
     "metadata": {},
     "output_type": "execute_result"
    },
    {
     "data": {
      "image/png": "[encoded data removed]",
      "text/plain": [
       "<Figure size 432x288 with 1 Axes>"
      ]
     },
     "metadata": {
      "needs_background": "light"
     },
     "output_type": "display_data"
    }
   ],
   "source": [
    "neighborhoodList=[]\n",
    "averageAQValueList=[]\n",
    "for a in q: \n",
    "    neighborhoodList.append(a)\n",
    "\n",
    "for n in neighborhoodList:\n",
    "    b = t['neighborhood'] == n\n",
    "    bb = t[b]\n",
    "    BBB = bb['air_quality_benfits_total_dollar_value'].mean()\n",
    "    averageAQValueList.append(BBB)\n",
    "\n",
    "\n",
    "allData6 = pd.Series(averageAQValueList, index=neighborhoodList)\n",
    "AQ = pd.Series(averageAQValueList, index=neighborhoodList)\n",
    "allData6.sort_values(ascending=False, inplace=True)\n",
    "topTenData6=allData6.head(10)\n",
    "topTenData6.plot.bar()\n"
   ]
  },
  {
   "cell_type": "markdown",
   "metadata": {},
   "source": [
    "These are the rankings for the highest average Air Quality Dollar Value by neighborhood. Again, the data is very close, and there is no clear argument for a winner."
   ]
  },
  {
   "cell_type": "markdown",
   "metadata": {},
   "source": [
    "# ------------------------------------------------------------------------------------\n",
    "\n",
    "### We are looking for the best neighborhood, so it is not enough to only have one or the other. Instead, we are looking for a neighborhood that excels in both. Therefore, I am averaging the previous two stats to find the best overall neighborhood."
   ]
  },
  {
   "cell_type": "code",
   "execution_count": 13,
   "metadata": {},
   "outputs": [
    {
     "data": {
      "text/plain": [
       "<matplotlib.axes._subplots.AxesSubplot at 0x7f67c5ac3460>"
      ]
     },
     "execution_count": 13,
     "metadata": {},
     "output_type": "execute_result"
    },
    {
     "data": {
      "image/png": "[encoded data removed]",
      "text/plain": [
       "<Figure size 432x288 with 1 Axes>"
      ]
     },
     "metadata": {
      "needs_background": "light"
     },
     "output_type": "display_data"
    }
   ],
   "source": [
    "dataAddition = CO2+AQ\n",
    "dataAddition.sort_values(ascending=False, inplace=True)\n",
    "dataAddition = dataAddition/2\n",
    "dataAddition\n",
    "dataAddition10=dataAddition.head(10)\n",
    "dataAddition10.head(10)\n",
    "dataAddition10.plot.bar()"
   ]
  },
  {
   "cell_type": "markdown",
   "metadata": {},
   "source": [
    "## The higher average value of trees, the more effictive those trees will be for the environment for that neighborhood. However, the top averages are extremely close and hard to tell.  \n",
    "\n",
    "## Not only that, the current data only shows the average value of trees within a neighborhood. What does this mean? It means that the current amount of data does not take in the quantity of trees within a neighborhood. A neighborhood with ONE very good tree will beat out the average value of a neighborhood with thousands of trees, even though the latter will have a lot bigger impact on the environment.\n",
    "\n",
    "## To compensate for this, I am multipling the average value of trees in a neighborhood by the quantity of trees in that neighborhood to find the total value of trees in the neighborhood. The higher the product, the better it is for the environment. "
   ]
  },
  {
   "cell_type": "code",
   "execution_count": 11,
   "metadata": {},
   "outputs": [
    {
     "data": {
      "text/plain": [
       "neighborhood\n",
       "Squirrel Hill South    5073\n",
       "Highland Park          2941\n",
       "Squirrel Hill North    2083\n",
       "South Side Flats       1693\n",
       "Shadyside              1558\n",
       "Name: neighborhood, dtype: int64"
      ]
     },
     "execution_count": 11,
     "metadata": {},
     "output_type": "execute_result"
    }
   ],
   "source": [
    "tN = t.groupby([\"neighborhood\"])[\"neighborhood\"].count()\n",
    "tN.sort_values(ascending=False, inplace=True)\n",
    "tN.head(5)\n",
    "#Preview"
   ]
  },
  {
   "cell_type": "code",
   "execution_count": 12,
   "metadata": {},
   "outputs": [
    {
     "data": {
      "text/plain": [
       "<matplotlib.axes._subplots.AxesSubplot at 0x7f67c5ac3430>"
      ]
     },
     "execution_count": 12,
     "metadata": {},
     "output_type": "execute_result"
    },
    {
     "data": {
      "image/png": "[encoded data removed]",
      "text/plain": [
       "<Figure size 432x288 with 1 Axes>"
      ]
     },
     "metadata": {
      "needs_background": "light"
     },
     "output_type": "display_data"
    }
   ],
   "source": [
    "rankings = dataAddition*tN\n",
    "rankings.sort_values(ascending=False, inplace=True)\n",
    "top10Rankings = rankings.head(10)\n",
    "top10Rankings.plot.bar()"
   ]
  },
  {
   "cell_type": "markdown",
   "metadata": {},
   "source": [
    "# ------------------------------------------------------------------------------------"
   ]
  },
  {
   "cell_type": "markdown",
   "metadata": {},
   "source": [
    "# Conclusion:"
   ]
  },
  {
   "cell_type": "markdown",
   "metadata": {},
   "source": [
    "From the chart above, one neighborhood stands out way above the rest, so I can confidently declare Squirrel Hill South as THE best neighborhood in Pittsburgh according to my sub metric."
   ]
  },
  {
   "cell_type": "markdown",
   "metadata": {},
   "source": [
    "Being new to Pittsburgh, I don't really know much about other neighborhoods. But as a Pitt student, I would categorize North Oakland as my personal favorite neighborhood. Unfortunately from my data, the best neighborhood according to my submetric is not my personal favorite."
   ]
  },
  {
   "cell_type": "markdown",
   "metadata": {},
   "source": [
    "# ------------------------------------------------------------------------------------"
   ]
  }
 ],
 "metadata": {
  "kernelspec": {
   "display_name": "Python 3",
   "language": "python",
   "name": "python3"
  },
  "language_info": {
   "codemirror_mode": {
    "name": "ipython",
    "version": 3
   },
   "file_extension": ".py",
   "mimetype": "text/x-python",
   "name": "python",
   "nbconvert_exporter": "python",
   "pygments_lexer": "ipython3",
   "version": "3.8.3"
  }
 },
 "nbformat": 4,
 "nbformat_minor": 4
}
